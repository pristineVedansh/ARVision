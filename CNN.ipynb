{
 "cells": [
  {
   "cell_type": "markdown",
   "metadata": {},
   "source": [
    "We don't use fully connected layer until the *very last layer(s)*. CNN swaps in specialized \"convolutional\" layer in place of \"fully connected\" for at least one of the layers in the network.\n",
    "A nonlinear activation function, such as ReLU, is then applied to the output of these convolutions and the process of **convolution $\\implies$ activation** continues along with a mixture of other layer types to help reduce the width and height of the input volume and to help reduce overfitting."
   ]
  },
  {
   "cell_type": "markdown",
   "metadata": {},
   "source": [
    "CNN gives two key benefits:\n",
    "- Local invariance - Allow us to classify an image as containing a particular object regardless of where in the image the object appears. Obtained through usage of \"pooling layers\".\n",
    "- Compositionality - Each filter composes a local patch of features into higher level representation. **Pixels $\\implies$ Edges $\\implies$ Shape $\\implies$ Object**."
   ]
  },
  {
   "cell_type": "markdown",
   "metadata": {},
   "source": [
    "#### Convolution [119]\n",
    "- Take two matrices of same dimensions.\n",
    "- Multiply them, element-by-element (not dot-product)\n",
    "- Sum the elements together."
   ]
  },
  {
   "cell_type": "code",
   "execution_count": 1,
   "metadata": {},
   "outputs": [
    {
     "name": "stdout",
     "output_type": "stream",
     "text": [
      "[INFO] applying small_blur kernel\n",
      "[INFO] applying large_blur kernel\n",
      "[INFO] applying sharpen kernel\n",
      "[INFO] applying laplacian kernel\n",
      "[INFO] applying sobel_x kernel\n",
      "[INFO] applying sobel_y kernel\n",
      "[INFO] applying emboss kernel\n"
     ]
    }
   ],
   "source": [
    "# import libraries\n",
    "from skimage.exposure import rescale_intensity\n",
    "import numpy as np\n",
    "import argparse\n",
    "import cv2\n",
    "\n",
    "def convolve(image, K):\n",
    "    # grab the spatial dimensions of the image and kernel\n",
    "    (iH, iW) = image.shape[:2]\n",
    "    (kH, kW) = K.shape[:2]\n",
    "\n",
    "    # padding the borders\n",
    "    pad = (kW - 1) // 2\n",
    "    image = cv2.copyMakeBorder(image, pad, pad, pad, pad, cv2.BORDER_REPLICATE)\n",
    "    output = np.zeros((iH, iW), dtype=\"float\")\n",
    "\n",
    "    # sliding the kerner across\n",
    "    # each (x, y)-coordinate from left-to-right and top-to-bottom\n",
    "    for y in np.arange(pad, iH + pad):\n",
    "        for x in np.arange(pad, iW + pad):\n",
    "            # extract the region of interest(roi)\n",
    "            # of the image by array slicing extracting *center* region of \n",
    "            # the current (x, y) co-ordinates dimensions\n",
    "            roi = image[y - pad:y + pad + 1, x - pad:x + pad + 1]\n",
    "\n",
    "            # perform the actual convolution by taking the\n",
    "            # eelement wise multiplication between roi and K\n",
    "            # then summing the matrix\n",
    "            k = (roi * K).sum()\n",
    "\n",
    "            # storing the convolved value in the\n",
    "            # co-ordinate of the output image\n",
    "            output[y - pad, x - pad] = k\n",
    "\n",
    "    # rescale the output image in the range [0, 255]\n",
    "    output = rescale_intensity(output, in_range=(0, 255))\n",
    "    output = (output * 255).astype(\"uint8\")\n",
    "\n",
    "    # return the output image\n",
    "    return output\n",
    "\n",
    "# parse the arguments\n",
    "# ap = argparse.ArgumentParser()\n",
    "# ap.add_argument(\"-i\", \"--image\", required=True, help=\"path to the input image\")\n",
    "# args = vars(ap.parse_args())\n",
    "\n",
    "args = {\"image\" : \"keras_mnist.png\"}\n",
    "\n",
    "# construct average blurring kernels used to smooth an image\n",
    "smallBlur = np.ones((7, 7), dtype=\"float\") * (1.0 / (7 * 7))\n",
    "largeBlur = np.ones((21, 21), dtype=\"float\") * (1.0 / (21 * 21))\n",
    "\n",
    "# construct a sharpening filter\n",
    "sharpen = np.array((\n",
    "    [0, -1, 0],\n",
    "    [-1, 5, -1],\n",
    "    [0, -1, 0]), dtype=\"int\")\n",
    "\n",
    "# laplacian kernel to detect edge like kernel\n",
    "laplacian = np.array((\n",
    "    [0, 1, 0],\n",
    "    [1, -4, 1],\n",
    "    [0, 1, 0]), dtype=\"int\")\n",
    "\n",
    "# construct the Sobel x-axis kernel\n",
    "sobelX = np.array((\n",
    "    [-1, 0, 1],\n",
    "    [-2, 0, 2],\n",
    "    [-1, 0, 1]), dtype=\"int\")\n",
    "\n",
    "# construct the Sobel y-axis kernel\n",
    "sobelY = np.array((\n",
    "    [-1, -2, -1],\n",
    "    [0, 0, 0],\n",
    "    [1, 2, 1]), dtype=\"int\")\n",
    "\n",
    "# construct an emboss kernel\n",
    "emboss = np.array((\n",
    "    [-2, -1, 0],\n",
    "    [-1, 1, 1],\n",
    "    [0, 1, 2]), dtype=\"int\")\n",
    "\n",
    "kernelBank = (\n",
    "    (\"small_blur\", smallBlur),\n",
    "    (\"large_blur\", largeBlur),\n",
    "    (\"sharpen\", sharpen),\n",
    "    (\"laplacian\", laplacian),\n",
    "    (\"sobel_x\", sobelX),\n",
    "    (\"sobel_y\", sobelY),\n",
    "    (\"emboss\", emboss))\n",
    "\n",
    "# load the input image and convert it to grayscale\n",
    "image = cv2.imread(args[\"image\"])\n",
    "gray = cv2.cvtColor(image, cv2.COLOR_BGR2GRAY)\n",
    "\n",
    "# loop over the kernels\n",
    "for (kernelName, K) in kernelBank:\n",
    "    # apply the kernel to the grayscale image using both our custom\n",
    "    # ‘convolve‘ function and OpenCV’s ‘filter2D‘ function\n",
    "    print(\"[INFO] applying {} kernel\".format(kernelName))\n",
    "    convolveOutput = convolve(gray, K)\n",
    "    opencvOutput = cv2.filter2D(gray, -1, K)\n",
    "\n",
    "    # show the output images\n",
    "    cv2.imshow(\"Original\", gray)\n",
    "    cv2.imshow(\"{} - convole\".format(kernelName), convolveOutput)\n",
    "    cv2.imshow(\"{} - opencv\".format(kernelName), opencvOutput)\n",
    "    cv2.waitKey(0)\n",
    "    cv2.destroyAllWindows()"
   ]
  },
  {
   "cell_type": "markdown",
   "metadata": {},
   "source": [
    "CNN actually learn these filters itself."
   ]
  },
  {
   "cell_type": "code",
   "execution_count": null,
   "metadata": {},
   "outputs": [],
   "source": []
  }
 ],
 "metadata": {
  "kernelspec": {
   "display_name": "Python 3",
   "language": "python",
   "name": "python3"
  },
  "language_info": {
   "codemirror_mode": {
    "name": "ipython",
    "version": 3
   },
   "file_extension": ".py",
   "mimetype": "text/x-python",
   "name": "python",
   "nbconvert_exporter": "python",
   "pygments_lexer": "ipython3",
   "version": "3.6.8"
  }
 },
 "nbformat": 4,
 "nbformat_minor": 2
}
