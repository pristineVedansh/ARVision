{
 "cells": [
  {
   "cell_type": "markdown",
   "metadata": {},
   "source": [
    "#### Loading, Displaying, and Saving"
   ]
  },
  {
   "cell_type": "code",
   "execution_count": 4,
   "metadata": {},
   "outputs": [
    {
     "name": "stderr",
     "output_type": "stream",
     "text": [
      "usage: ipykernel_launcher.py [-h] -i IMAGE\n",
      "ipykernel_launcher.py: error: the following arguments are required: -i/--image\n"
     ]
    },
    {
     "ename": "SystemExit",
     "evalue": "2",
     "output_type": "error",
     "traceback": [
      "An exception has occurred, use %tb to see the full traceback.\n",
      "\u001b[1;31mSystemExit\u001b[0m\u001b[1;31m:\u001b[0m 2\n"
     ]
    }
   ],
   "source": [
    "#importing the libraries\n",
    "from __future__ import print_function\n",
    "import argparse #argparse will handle our command line arguments\n",
    "import cv2\n",
    "\n",
    "#the only argument we need is an image path on our disk\n",
    "ap = argparse.ArgumentParser()\n",
    "ap.add_argument(\"-i\", \"--image\", required = True,\n",
    "               help = \"Path to the image\")\n",
    "args = vars(ap.parse_args())\n",
    "\n",
    "#load image off the disk and imread returns numpy array representing image\n",
    "image = cv2.imread(args[\"image\"])\n",
    "print(\"width: {} pixels\".format(image.shape[1]))\n",
    "print(\"height: {} pixels\".format(image.shape[0]))\n",
    "print(\"channels: {}\".format(image.shape[2]))\n",
    "\n",
    "cv2.imshow(\"Image\", image)\n",
    "cv2.waitkey(0) #pauses the execution of the script until we press any key\n",
    "cv2.imwrite(\"newimage.jpg\", image)"
   ]
  },
  {
   "cell_type": "code",
   "execution_count": null,
   "metadata": {},
   "outputs": [],
   "source": []
  }
 ],
 "metadata": {
  "kernelspec": {
   "display_name": "Python 3",
   "language": "python",
   "name": "python3"
  },
  "language_info": {
   "codemirror_mode": {
    "name": "ipython",
    "version": 3
   },
   "file_extension": ".py",
   "mimetype": "text/x-python",
   "name": "python",
   "nbconvert_exporter": "python",
   "pygments_lexer": "ipython3",
   "version": "3.6.8"
  }
 },
 "nbformat": 4,
 "nbformat_minor": 2
}
